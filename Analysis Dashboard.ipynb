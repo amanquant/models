{
 "cells": [
  {
   "cell_type": "code",
   "execution_count": 3,
   "id": "45d323c9",
   "metadata": {},
   "outputs": [],
   "source": [
    "import pandas_datareader as web\n",
    "import pandas as pd\n",
    "import matplotlib.pyplot as plt\n",
    "from matplotlib import style\n",
    "import seaborn as sns\n",
    "from matplotlib.axis import Axis\n",
    "import random\n",
    "import matplotlib.lines as lines\n",
    "import matplotlib.patches as patches\n",
    "import matplotlib.text as text\n",
    "import matplotlib.collections as collections\n",
    "import seaborn as sns\n",
    "import numpy as np\n",
    "import pandas as pd\n",
    "import yfinance as yf\n",
    "import warnings\n",
    "import cufflinks as cf\n",
    "import plotly.graph_objects as go\n",
    "from plotly.offline import iplot, init_notebook_mode\n",
    "import matplotlib.pyplot as plt\n",
    "import numpy as np\n",
    "import matplotlib.pyplot as plt\n",
    "import yahoo_finance as yf\n",
    "from datetime import date"
   ]
  },
  {
   "cell_type": "code",
   "execution_count": 4,
   "id": "9dc76ae5",
   "metadata": {},
   "outputs": [],
   "source": [
    "sp= web.get_data_yahoo('^GSPC',\"12-31-2010\",\"11-29-2021\")['Adj Close']"
   ]
  },
  {
   "cell_type": "code",
   "execution_count": 5,
   "id": "03dd680d",
   "metadata": {},
   "outputs": [],
   "source": [
    "vix= web.get_data_yahoo('^VIX',\"12-31-2010\",\"11-29-2021\")['Adj Close']"
   ]
  },
  {
   "cell_type": "code",
   "execution_count": 6,
   "id": "557f471c",
   "metadata": {},
   "outputs": [],
   "source": [
    "spchg=sp.pct_change()\n",
    "vixchg=vix.pct_change()"
   ]
  },
  {
   "cell_type": "code",
   "execution_count": 7,
   "id": "56a3c74a",
   "metadata": {},
   "outputs": [
    {
     "data": {
      "text/html": [
       "<div>\n",
       "<style scoped>\n",
       "    .dataframe tbody tr th:only-of-type {\n",
       "        vertical-align: middle;\n",
       "    }\n",
       "\n",
       "    .dataframe tbody tr th {\n",
       "        vertical-align: top;\n",
       "    }\n",
       "\n",
       "    .dataframe thead th {\n",
       "        text-align: right;\n",
       "    }\n",
       "</style>\n",
       "<table border=\"1\" class=\"dataframe\">\n",
       "  <thead>\n",
       "    <tr style=\"text-align: right;\">\n",
       "      <th></th>\n",
       "      <th>Adj Close</th>\n",
       "      <th>Adj Close</th>\n",
       "    </tr>\n",
       "    <tr>\n",
       "      <th>Date</th>\n",
       "      <th></th>\n",
       "      <th></th>\n",
       "    </tr>\n",
       "  </thead>\n",
       "  <tbody>\n",
       "    <tr>\n",
       "      <th>2010-12-31</th>\n",
       "      <td>NaN</td>\n",
       "      <td>NaN</td>\n",
       "    </tr>\n",
       "    <tr>\n",
       "      <th>2011-01-03</th>\n",
       "      <td>0.011315</td>\n",
       "      <td>-0.007887</td>\n",
       "    </tr>\n",
       "    <tr>\n",
       "      <th>2011-01-04</th>\n",
       "      <td>-0.001313</td>\n",
       "      <td>-0.013061</td>\n",
       "    </tr>\n",
       "    <tr>\n",
       "      <th>2011-01-05</th>\n",
       "      <td>0.005007</td>\n",
       "      <td>-0.020713</td>\n",
       "    </tr>\n",
       "    <tr>\n",
       "      <th>2011-01-06</th>\n",
       "      <td>-0.002123</td>\n",
       "      <td>0.022327</td>\n",
       "    </tr>\n",
       "    <tr>\n",
       "      <th>...</th>\n",
       "      <td>...</td>\n",
       "      <td>...</td>\n",
       "    </tr>\n",
       "    <tr>\n",
       "      <th>2021-11-22</th>\n",
       "      <td>-0.003197</td>\n",
       "      <td>0.070352</td>\n",
       "    </tr>\n",
       "    <tr>\n",
       "      <th>2021-11-23</th>\n",
       "      <td>0.001657</td>\n",
       "      <td>0.010955</td>\n",
       "    </tr>\n",
       "    <tr>\n",
       "      <th>2021-11-24</th>\n",
       "      <td>0.002294</td>\n",
       "      <td>-0.041280</td>\n",
       "    </tr>\n",
       "    <tr>\n",
       "      <th>2021-11-26</th>\n",
       "      <td>-0.022725</td>\n",
       "      <td>0.540366</td>\n",
       "    </tr>\n",
       "    <tr>\n",
       "      <th>2021-11-29</th>\n",
       "      <td>0.013200</td>\n",
       "      <td>-0.197764</td>\n",
       "    </tr>\n",
       "  </tbody>\n",
       "</table>\n",
       "<p>2747 rows × 2 columns</p>\n",
       "</div>"
      ],
      "text/plain": [
       "            Adj Close  Adj Close\n",
       "Date                            \n",
       "2010-12-31        NaN        NaN\n",
       "2011-01-03   0.011315  -0.007887\n",
       "2011-01-04  -0.001313  -0.013061\n",
       "2011-01-05   0.005007  -0.020713\n",
       "2011-01-06  -0.002123   0.022327\n",
       "...               ...        ...\n",
       "2021-11-22  -0.003197   0.070352\n",
       "2021-11-23   0.001657   0.010955\n",
       "2021-11-24   0.002294  -0.041280\n",
       "2021-11-26  -0.022725   0.540366\n",
       "2021-11-29   0.013200  -0.197764\n",
       "\n",
       "[2747 rows x 2 columns]"
      ]
     },
     "execution_count": 7,
     "metadata": {},
     "output_type": "execute_result"
    }
   ],
   "source": [
    "pd.concat([spchg,vixchg],axis=1)"
   ]
  },
  {
   "cell_type": "code",
   "execution_count": 8,
   "id": "1d231b29",
   "metadata": {},
   "outputs": [
    {
     "data": {
      "image/png": "[encoded data removed]",
      "text/plain": [
       "<Figure size 432x288 with 2 Axes>"
      ]
     },
     "metadata": {
      "needs_background": "light"
     },
     "output_type": "display_data"
    }
   ],
   "source": [
    "fig,ax = plt.subplots()\n",
    "# make a plot\n",
    "plt.grid(b=False)\n",
    "ax.hist(spchg, color=\"darkorange\",bins=100, label='SP500',alpha=0.5,edgecolor='black')\n",
    "# set y-axis label\n",
    "ax.set_xlabel(\"SP500\",color=\"darkorange\",fontsize=13)\n",
    "plt.legend(loc='upper right')\n",
    "# twin object for two different y-axis on the sample plot\n",
    "ax2=ax.twiny()\n",
    "# make a plot with different y-axis using second axis object\n",
    "ax2.hist(vixchg,color=\"blue\",bins=100, label='Vix',alpha=0.5,edgecolor='black')\n",
    "ax2.set_xlabel(\"Vix\",color=\"blue\",fontsize=13)\n",
    "plt.legend(loc='upper left')\n",
    "plt.show()"
   ]
  },
  {
   "cell_type": "code",
   "execution_count": 9,
   "id": "15de36eb",
   "metadata": {},
   "outputs": [
    {
     "data": {
      "text/plain": [
       "<matplotlib.legend.Legend at 0x1e0d2c61490>"
      ]
     },
     "execution_count": 9,
     "metadata": {},
     "output_type": "execute_result"
    },
    {
     "data": {
      "image/png": "[encoded data removed]",
      "text/plain": [
       "<Figure size 432x288 with 1 Axes>"
      ]
     },
     "metadata": {
      "needs_background": "light"
     },
     "output_type": "display_data"
    }
   ],
   "source": [
    "plt.hist(spchg, color=\"darkorange\",bins=100, label='SP500',alpha=0.5,edgecolor='black')\n",
    "spchg\n",
    "plt.legend()"
   ]
  },
  {
   "cell_type": "code",
   "execution_count": 10,
   "id": "519cc5fd",
   "metadata": {},
   "outputs": [
    {
     "data": {
      "image/png": "[encoded data removed]",
      "text/plain": [
       "<Figure size 432x288 with 1 Axes>"
      ]
     },
     "metadata": {
      "needs_background": "light"
     },
     "output_type": "display_data"
    }
   ],
   "source": [
    "plt.hist(vixchg, color=\"darkorange\",bins=100, label='Vix',alpha=0.5,edgecolor='black')\n",
    "plt.legend()\n",
    "plt.show()"
   ]
  },
  {
   "cell_type": "code",
   "execution_count": 11,
   "id": "b02f7e72",
   "metadata": {
    "scrolled": true
   },
   "outputs": [
    {
     "data": {
      "text/html": [
       "<div>\n",
       "<style scoped>\n",
       "    .dataframe tbody tr th:only-of-type {\n",
       "        vertical-align: middle;\n",
       "    }\n",
       "\n",
       "    .dataframe tbody tr th {\n",
       "        vertical-align: top;\n",
       "    }\n",
       "\n",
       "    .dataframe thead th {\n",
       "        text-align: right;\n",
       "    }\n",
       "</style>\n",
       "<table border=\"1\" class=\"dataframe\">\n",
       "  <thead>\n",
       "    <tr style=\"text-align: right;\">\n",
       "      <th></th>\n",
       "      <th>Adj Close</th>\n",
       "      <th>Adj Close</th>\n",
       "    </tr>\n",
       "  </thead>\n",
       "  <tbody>\n",
       "    <tr>\n",
       "      <th>count</th>\n",
       "      <td>2746.000000</td>\n",
       "      <td>2746.000000</td>\n",
       "    </tr>\n",
       "    <tr>\n",
       "      <th>mean</th>\n",
       "      <td>0.003402</td>\n",
       "      <td>0.000535</td>\n",
       "    </tr>\n",
       "    <tr>\n",
       "      <th>std</th>\n",
       "      <td>0.085211</td>\n",
       "      <td>0.010766</td>\n",
       "    </tr>\n",
       "    <tr>\n",
       "      <th>min</th>\n",
       "      <td>-0.269583</td>\n",
       "      <td>-0.119841</td>\n",
       "    </tr>\n",
       "    <tr>\n",
       "      <th>25%</th>\n",
       "      <td>-0.043890</td>\n",
       "      <td>-0.003340</td>\n",
       "    </tr>\n",
       "    <tr>\n",
       "      <th>50%</th>\n",
       "      <td>-0.006297</td>\n",
       "      <td>0.000703</td>\n",
       "    </tr>\n",
       "    <tr>\n",
       "      <th>75%</th>\n",
       "      <td>0.036469</td>\n",
       "      <td>0.005296</td>\n",
       "    </tr>\n",
       "    <tr>\n",
       "      <th>max</th>\n",
       "      <td>1.155979</td>\n",
       "      <td>0.093828</td>\n",
       "    </tr>\n",
       "  </tbody>\n",
       "</table>\n",
       "</div>"
      ],
      "text/plain": [
       "         Adj Close    Adj Close\n",
       "count  2746.000000  2746.000000\n",
       "mean      0.003402     0.000535\n",
       "std       0.085211     0.010766\n",
       "min      -0.269583    -0.119841\n",
       "25%      -0.043890    -0.003340\n",
       "50%      -0.006297     0.000703\n",
       "75%       0.036469     0.005296\n",
       "max       1.155979     0.093828"
      ]
     },
     "execution_count": 11,
     "metadata": {},
     "output_type": "execute_result"
    }
   ],
   "source": [
    "d1=vixchg.describe()\n",
    "d2=spchg.describe()\n",
    "df=pd.concat([d1,d2],axis=1)\n",
    "df"
   ]
  },
  {
   "cell_type": "code",
   "execution_count": 12,
   "id": "90b79684",
   "metadata": {},
   "outputs": [],
   "source": [
    "import numpy as np\n",
    "from scipy.stats import kurtosis\n",
    "from scipy.stats import skew"
   ]
  },
  {
   "cell_type": "code",
   "execution_count": 13,
   "id": "62a89a59",
   "metadata": {},
   "outputs": [],
   "source": [
    "spnorm= (spchg-spchg.mean())/spchg.std()\n",
    "vixnorm= (vixchg-vixchg.mean())/vixchg.std()"
   ]
  },
  {
   "cell_type": "code",
   "execution_count": 14,
   "id": "53c4c9ec",
   "metadata": {},
   "outputs": [
    {
     "data": {
      "image/png": "[encoded data removed]",
      "text/plain": [
       "<Figure size 432x288 with 2 Axes>"
      ]
     },
     "metadata": {
      "needs_background": "light"
     },
     "output_type": "display_data"
    }
   ],
   "source": [
    "fig,ax = plt.subplots()\n",
    "# make a plot\n",
    "plt.grid(b=False)\n",
    "ax.hist(spnorm, color=\"darkorange\",bins=100, label='SP500',alpha=0.5,edgecolor='black')\n",
    "# set y-axis label\n",
    "ax.set_xlabel(\"SP500\",color=\"darkorange\",fontsize=13)\n",
    "plt.legend(loc='upper right')\n",
    "# twin object for two different y-axis on the sample plot\n",
    "ax2=ax.twiny()\n",
    "# make a plot with different y-axis using second axis object\n",
    "ax2.hist(vixnorm,color=\"blue\",bins=100, label='Vix',alpha=0.5,edgecolor='black')\n",
    "ax2.set_xlabel(\"Vix\",color=\"blue\",fontsize=13)\n",
    "plt.legend(loc='upper left')\n",
    "plt.grid(False)"
   ]
  },
  {
   "cell_type": "code",
   "execution_count": 15,
   "id": "04435b2d",
   "metadata": {},
   "outputs": [],
   "source": [
    "ax.xaxis.set_major_formatter('σ{x:0.1f}')\n",
    "ax2.xaxis.set_major_formatter('σ{x:0.1f}')\n",
    "plt.show()"
   ]
  },
  {
   "cell_type": "code",
   "execution_count": 16,
   "id": "1decd2d1",
   "metadata": {},
   "outputs": [
    {
     "data": {
      "image/png": "[encoded data removed]",
      "text/plain": [
       "<Figure size 432x288 with 1 Axes>"
      ]
     },
     "metadata": {
      "needs_background": "light"
     },
     "output_type": "display_data"
    }
   ],
   "source": [
    "fig,ax3 = plt.subplots()\n",
    "# make a plot\n",
    "plt.grid(b=False)\n",
    "ax3.hist(spnorm, color=\"darkorange\",bins=100, label='SP500',alpha=0.5,edgecolor='black')\n",
    "# set y-axis label\n",
    "ax3.set_xlabel(\"SP500\",color=\"darkorange\",fontsize=13)\n",
    "plt.legend(loc='upper right')\n",
    "ax3.xaxis.set_major_formatter('σ{x:0.1f}')\n",
    "plt.show()"
   ]
  },
  {
   "cell_type": "code",
   "execution_count": 17,
   "id": "d867f7ac",
   "metadata": {},
   "outputs": [
    {
     "data": {
      "image/png": "[encoded data removed]",
      "text/plain": [
       "<Figure size 432x288 with 1 Axes>"
      ]
     },
     "metadata": {
      "needs_background": "light"
     },
     "output_type": "display_data"
    }
   ],
   "source": [
    "fig,ax4 = plt.subplots()\n",
    "# make a plot\n",
    "plt.grid(b=False)\n",
    "ax4.hist(vixnorm, color=\"darkorange\",bins=100, label='Vix',alpha=0.5,edgecolor='black')\n",
    "# set y-axis label\n",
    "ax4.set_xlabel(\"Vix\",color=\"darkorange\",fontsize=13)\n",
    "plt.legend(loc='upper right')\n",
    "ax4.xaxis.set_major_formatter('σ{x:0.1f}')\n",
    "plt.show()"
   ]
  },
  {
   "cell_type": "code",
   "execution_count": 18,
   "id": "38950f70",
   "metadata": {},
   "outputs": [
    {
     "data": {
      "image/png": "[encoded data removed]",
      "text/plain": [
       "<Figure size 432x288 with 1 Axes>"
      ]
     },
     "metadata": {
      "needs_background": "light"
     },
     "output_type": "display_data"
    }
   ],
   "source": [
    "fig,ax = plt.subplots()\n",
    "sns.histplot(vixnorm, color=\"darkorange\",bins=50, label='Vix',alpha=0.5,edgecolor='black')\n",
    "sns.histplot(spnorm, color=\"darkblue\",bins=50, label='SP500',alpha=0.5,edgecolor='black')\n",
    "ax.xaxis.set_major_formatter('σ{x:0.1f}')\n",
    "plt.xlim(-10,15)\n",
    "plt.title('Z-Score Measure Of Last 10 Years Daily Distribution')\n",
    "plt.xlabel('Standard Deviations')\n",
    "plt.ylabel('Frequency')\n",
    "plt.legend()\n",
    "plt.show()"
   ]
  },
  {
   "cell_type": "code",
   "execution_count": 19,
   "id": "f23c4375",
   "metadata": {},
   "outputs": [
    {
     "data": {
      "image/png": "[encoded data removed]",
      "text/plain": [
       "<Figure size 432x288 with 2 Axes>"
      ]
     },
     "metadata": {
      "needs_background": "light"
     },
     "output_type": "display_data"
    }
   ],
   "source": [
    "fig,ax = plt.subplots()\n",
    "# make a plot\n",
    "plt.grid(b=False)\n",
    "ax.hist(spnorm, color=\"darkorange\",bins=100, label='SP500',alpha=0.5,edgecolor='black')\n",
    "# set y-axis label\n",
    "ax.set_xlabel(\"SP500\",color=\"darkorange\",fontsize=13)\n",
    "ax.xaxis.set_major_formatter('σ{x:0.1f}')\n",
    "plt.legend(loc='upper right',frameon=False)\n",
    "\n",
    "# twin object for two different y-axis on the sample plot\n",
    "\n",
    "ax2= ax.twiny()\n",
    "\n",
    "ax2.set_frame_on(True)\n",
    "ax2.patch.set_visible(False)\n",
    "ax2.xaxis.set_ticks_position('bottom')\n",
    "ax2.xaxis.set_label_position('bottom')\n",
    "ax2.spines['bottom'].set_position(('outward', 40))\n",
    "\n",
    "\n",
    "# make a plot with different y-axis using second axis object\n",
    "ax2.hist(vixnorm,color=\"blue\",bins=100, label='Vix',alpha=0.5,edgecolor='black')\n",
    "ax2.set_xlabel(\"Vix\",color=\"blue\",fontsize=13)\n",
    "ax2.xaxis.set_major_formatter('σ{x:0.1f}')\n",
    "\n",
    "plt.grid(False)\n",
    "ax.axvline(vixchg.mean())\n",
    "ax2.axvline(spchg.mean())\n",
    "\n",
    "skew_v=vixnorm.skew()\n",
    "spnorm.skew()\n",
    "vixnorm.kurtosis()\n",
    "spnorm.kurtosis()\n",
    "\n",
    "plt.legend(loc='upper left',frameon=False)\n",
    "\n",
    "plt.title('Z-Score Measure Of Last 10 Years Daily Distribution')\n",
    "plt.xlabel('Vix')\n",
    "plt.ylabel('Frequency')\n",
    "plt.show()"
   ]
  },
  {
   "cell_type": "code",
   "execution_count": 20,
   "id": "52d0e6a0",
   "metadata": {},
   "outputs": [
    {
     "data": {
      "image/png": "[encoded data removed]",
      "text/plain": [
       "<Figure size 432x288 with 2 Axes>"
      ]
     },
     "metadata": {
      "needs_background": "light"
     },
     "output_type": "display_data"
    }
   ],
   "source": [
    "fig, axs = plt.subplots(2)\n",
    "fig.suptitle('Z-Score Measure Of Last 10 Years Daily Distribution')\n",
    "\n",
    "axs[0].hist(vixnorm,color=\"blue\",bins=100, label='Vix',alpha=0.5,edgecolor='black')\n",
    "axs[0].set_xlim([-13,13])\n",
    "axs[0].set_ylim([0,450])\n",
    "axs[1].hist(spnorm, color=\"darkorange\",bins=100, label='SP500',alpha=0.5,edgecolor='black')\n",
    "axs[1].set_xlim([-13,13])\n",
    "axs[1].set_ylim([0,450])\n",
    "\n",
    "axs[0].legend(loc='upper right',frameon=False)\n",
    "axs[0].xaxis.set_major_formatter('σ{x:0.1f}')\n",
    "axs[1].legend(loc='upper right',frameon=False)\n",
    "axs[1].xaxis.set_major_formatter('σ{x:0.1f}')\n",
    "\n",
    "\n",
    "plt.show()"
   ]
  },
  {
   "cell_type": "code",
   "execution_count": 21,
   "id": "f0d1c0eb",
   "metadata": {},
   "outputs": [
    {
     "data": {
      "image/png": "[encoded data removed]",
      "text/plain": [
       "<Figure size 432x288 with 2 Axes>"
      ]
     },
     "metadata": {
      "needs_background": "light"
     },
     "output_type": "display_data"
    }
   ],
   "source": [
    "fig, axs = plt.subplots(2)\n",
    "fig.suptitle('Z-Score Measure Of Last 10 Years Daily Distribution')\n",
    "\n",
    "axs[0].hist(vixnorm,color=\"blue\",bins=100, label='Vix',alpha=0.5,edgecolor='black')\n",
    "axs[1].hist(spnorm, color=\"darkorange\",bins=100, label='SP500',alpha=0.5,edgecolor='black')\n",
    "\n",
    "axs[0].legend(loc='upper right',frameon=False)\n",
    "axs[0].xaxis.set_major_formatter('σ{x:0.1f}')\n",
    "axs[0].set_ylim([0,400])\n",
    "axs[1].legend(loc='upper right',frameon=False)\n",
    "axs[1].xaxis.set_major_formatter('σ{x:0.1f}')\n",
    "axs[1].set_ylim([0,400])\n",
    "\n",
    "\n",
    "plt.show()"
   ]
  },
  {
   "cell_type": "code",
   "execution_count": 22,
   "id": "ec6237d8",
   "metadata": {},
   "outputs": [],
   "source": [
    "vskew=vixnorm.skew()\n",
    "vkurt=vixnorm.kurtosis()\n",
    "vmed=vixnorm.median()\n",
    "vmean=vixnorm.mean()"
   ]
  },
  {
   "cell_type": "code",
   "execution_count": 23,
   "id": "901f62e8",
   "metadata": {},
   "outputs": [],
   "source": [
    "spskew=spnorm.skew()\n",
    "spkurt=spnorm.kurtosis()\n",
    "spmed=spnorm.median()\n",
    "spmean=spnorm.mean()"
   ]
  },
  {
   "cell_type": "code",
   "execution_count": 24,
   "id": "ecc030ca",
   "metadata": {},
   "outputs": [
    {
     "data": {
      "text/html": [
       "<div>\n",
       "<style scoped>\n",
       "    .dataframe tbody tr th:only-of-type {\n",
       "        vertical-align: middle;\n",
       "    }\n",
       "\n",
       "    .dataframe tbody tr th {\n",
       "        vertical-align: top;\n",
       "    }\n",
       "\n",
       "    .dataframe thead th {\n",
       "        text-align: right;\n",
       "    }\n",
       "</style>\n",
       "<table border=\"1\" class=\"dataframe\">\n",
       "  <thead>\n",
       "    <tr style=\"text-align: right;\">\n",
       "      <th></th>\n",
       "      <th>SP500</th>\n",
       "      <th>Vix</th>\n",
       "    </tr>\n",
       "  </thead>\n",
       "  <tbody>\n",
       "    <tr>\n",
       "      <th>skew</th>\n",
       "      <td>-6.310569e-01</td>\n",
       "      <td>2.325600e+00</td>\n",
       "    </tr>\n",
       "    <tr>\n",
       "      <th>kurtosis</th>\n",
       "      <td>1.668289e+01</td>\n",
       "      <td>1.786988e+01</td>\n",
       "    </tr>\n",
       "    <tr>\n",
       "      <th>mean</th>\n",
       "      <td>-1.237175e-17</td>\n",
       "      <td>1.298629e-16</td>\n",
       "    </tr>\n",
       "    <tr>\n",
       "      <th>median</th>\n",
       "      <td>1.556753e-02</td>\n",
       "      <td>-1.138200e-01</td>\n",
       "    </tr>\n",
       "  </tbody>\n",
       "</table>\n",
       "</div>"
      ],
      "text/plain": [
       "                 SP500           Vix\n",
       "skew     -6.310569e-01  2.325600e+00\n",
       "kurtosis  1.668289e+01  1.786988e+01\n",
       "mean     -1.237175e-17  1.298629e-16\n",
       "median    1.556753e-02 -1.138200e-01"
      ]
     },
     "execution_count": 24,
     "metadata": {},
     "output_type": "execute_result"
    }
   ],
   "source": [
    "pd.DataFrame({'SP500': [spskew,spkurt,spmean,spmed], 'Vix': [vskew,vkurt,vmean,vmed]},['skew','kurtosis','mean','median'])\n"
   ]
  }
 ],
 "metadata": {
  "kernelspec": {
   "display_name": "Python 3",
   "language": "python",
   "name": "python3"
  },
  "language_info": {
   "codemirror_mode": {
    "name": "ipython",
    "version": 3
   },
   "file_extension": ".py",
   "mimetype": "text/x-python",
   "name": "python",
   "nbconvert_exporter": "python",
   "pygments_lexer": "ipython3",
   "version": "3.8.8"
  }
 },
 "nbformat": 4,
 "nbformat_minor": 5
}
